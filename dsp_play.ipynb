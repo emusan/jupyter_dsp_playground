{
 "cells": [
  {
   "cell_type": "markdown",
   "id": "13681a64-0dd0-4cdf-b4b3-ba7ef3ee8350",
   "metadata": {},
   "source": [
    "# Testing some things!\n"
   ]
  },
  {
   "cell_type": "code",
   "execution_count": null,
   "id": "ac091ca6-5777-490f-af96-132dc2be1d74",
   "metadata": {},
   "outputs": [],
   "source": [
    "import numpy as np\n",
    "from matplotlib import pyplot as plt\n",
    "from ipywidgets import interactive, fixed"
   ]
  },
  {
   "cell_type": "code",
   "execution_count": null,
   "id": "db082b66-e3eb-4f07-a205-a734d6f707bc",
   "metadata": {},
   "outputs": [],
   "source": [
    "def gen_carrier(x, freq):\n",
    "  carrier = np.sin(2*np.pi*freq*x)\n",
    "\n",
    "  return carrier"
   ]
  },
  {
   "cell_type": "code",
   "execution_count": null,
   "id": "1e2df05e-d94c-4e92-89b9-be30ec5c9458",
   "metadata": {},
   "outputs": [],
   "source": [
    "def plot_spec(waveform,Fs):\n",
    "  spectrum = np.fft.rfft(waveform)\n",
    "  L = spectrum.size\n",
    "  freq = Fs / L * np.arange(0,L/2,0.5)\n",
    "  plt.plot(freq,np.abs(spectrum))\n",
    "  plt.show()"
   ]
  },
  {
   "cell_type": "code",
   "execution_count": null,
   "id": "6280a715-64c4-4313-a54d-2d82b7a291eb",
   "metadata": {},
   "outputs": [],
   "source": [
    "def gen_data(chip_rate,Fs,time):\n",
    "  data_per_sample = np.ceil(Fs/chip_rate)\n",
    "  num_samples = time * Fs\n",
    "  rng = np.random.default_rng(12345)\n",
    "  x = rng.integers(low=0,high=2,size=int(np.ceil(chip_rate*time)))\n",
    "  print(x[0:20])\n",
    "\n",
    "  data = np.repeat(x,data_per_sample)\n",
    "  return data[0:int(num_samples)]"
   ]
  },
  {
   "cell_type": "code",
   "execution_count": null,
   "id": "1879f87a-073d-4c19-96f5-4d6f17331139",
   "metadata": {},
   "outputs": [],
   "source": [
    "def bpsk_mod(data, waveform):\n",
    "  x = data * 2\n",
    "  x = x - 1\n",
    "  return x * waveform"
   ]
  },
  {
   "cell_type": "code",
   "execution_count": null,
   "id": "f8ad2533-384d-4d50-8d31-a92a35dbe25f",
   "metadata": {},
   "outputs": [],
   "source": [
    "def do_lots(Fs, sine_freq, chip_rate):\n",
    "  time = 0.001\n",
    "  x = np.arange(0,time,1/Fs)\n",
    "\n",
    "  wave = gen_carrier(x, sine_freq)\n",
    "  #fig = plt.figure(1)\n",
    "  #plt.plot(x[1:100],wave[1:100])\n",
    "  #plt.show()\n",
    "  #plot_spec(wave,Fs)\n",
    "\n",
    "  bpsk_in = gen_data(chip_rate,Fs,time)\n",
    "  y = bpsk_mod(bpsk_in,wave)\n",
    "  #plot_spec(y,Fs)\n",
    "  return y"
   ]
  },
  {
   "cell_type": "code",
   "execution_count": null,
   "id": "e9462977-6a37-4f3a-bb55-562f388e677b",
   "metadata": {},
   "outputs": [],
   "source": [
    "def do_something_more(sample_rate,carrier_freq,chip_rate,fft_bin_sel):\n",
    "  x = do_lots(sample_rate,carrier_freq,chip_rate)\n",
    "  y = x.reshape(int(x.size/32),32)\n",
    "  #plt.plot(y[1,:])\n",
    "  spec = np.fft.rfft(np.transpose(y),axis=0)\n",
    "  #plt.plot(spec)\n",
    "  #plt.show()\n",
    "  plt.plot(spec[int(fft_bin_sel),0:2000])\n",
    "  print(spec.shape)\n",
    "  plt.show()\n",
    "  return spec\n",
    "\n",
    "w=interactive(do_something_more,sample_rate=(3.2E9),carrier_freq=(1E6,400E6),chip_rate=(1E6),fft_bin_sel=(0,16))\n",
    "w"
   ]
  },
  {
   "cell_type": "code",
   "execution_count": null,
   "id": "7d0ec966-fe89-4e2c-a2e8-6fd3d92f5a5a",
   "metadata": {},
   "outputs": [],
   "source": [
    "w=interactive(do_lots,Fs=3.2E9,sine_freq=(30E6,1.5E9),chip_rate=(1E6,100E6))\n",
    "w"
   ]
  },
  {
   "cell_type": "code",
   "execution_count": null,
   "id": "0e7ace84-5921-4458-b311-2153202e106b",
   "metadata": {},
   "outputs": [],
   "source": []
  }
 ],
 "metadata": {
  "kernelspec": {
   "display_name": "Python 3 (ipykernel)",
   "language": "python",
   "name": "python3"
  },
  "language_info": {
   "codemirror_mode": {
    "name": "ipython",
    "version": 3
   },
   "file_extension": ".py",
   "mimetype": "text/x-python",
   "name": "python",
   "nbconvert_exporter": "python",
   "pygments_lexer": "ipython3",
   "version": "3.11.9"
  }
 },
 "nbformat": 4,
 "nbformat_minor": 5
}
